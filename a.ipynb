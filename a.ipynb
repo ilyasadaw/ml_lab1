from collections import defaultdict
import random
from random import choices as rc
from random import choice as rancho
import matplotlib.pyplot as plt
from math import sqrt
import networkx as nx
import numpy as np
import csv
from networkx import all_pairs_shortest_path_length
from tqdm import tqdm
import matplotlib.mlab as mlab
from scipy.stats import norm
import seaborn as sb
from matplotlib.pyplot import yticks
w = [3, 44, 2]    #Ввод
x = [1, 2, 7]
b = 3

np.dot(w, x) + b
